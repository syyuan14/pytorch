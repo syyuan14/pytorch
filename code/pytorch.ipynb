{
 "cells": [
  {
   "cell_type": "code",
   "execution_count": 10,
   "metadata": {},
   "outputs": [
    {
     "name": "stdout",
     "output_type": "stream",
     "text": [
      "param1 torch.Size([3, 3])\n",
      "submodule.weight torch.Size([4, 3])\n",
      "submodule.bias torch.Size([4])\n",
      " Net(\n",
      "  (submodule): Linear(in_features=3, out_features=4, bias=True)\n",
      ")\n",
      "submodule Linear(in_features=3, out_features=4, bias=True)\n"
     ]
    }
   ],
   "source": [
    "import torch\n",
    "import torch.nn as nn\n",
    "class Net(nn.Module):\n",
    "    def __init__(self):\n",
    "        super(Net,self).__init__()\n",
    "        self.param1 = nn.Parameter(torch.randn(3,3))\n",
    "        self.submodule = nn.Linear(3,4)\n",
    "    def forward(self,input):\n",
    "        x = self.param1.mm(input)\n",
    "        x = self.submodule(x)\n",
    "        return x\n",
    "    \n",
    "net =Net()\n",
    "for name,param in net.named_parameters():\n",
    "    print(name,param.size())\n",
    "for name,module in net.named_modules():\n",
    "    print(name,module)"
   ]
  },
  {
   "cell_type": "code",
   "execution_count": 11,
   "metadata": {},
   "outputs": [
    {
     "data": {
      "text/plain": [
       "OrderedDict([('running_mean', tensor([0.0459, 0.0355])),\n",
       "             ('running_var', tensor([0.9131, 0.9121])),\n",
       "             ('num_batches_tracked', tensor(1))])"
      ]
     },
     "execution_count": 11,
     "metadata": {},
     "output_type": "execute_result"
    }
   ],
   "source": [
    "bn = nn.BatchNorm1d(2)\n",
    "input = torch.rand(3,2)\n",
    "output = bn(input)\n",
    "bn._buffers"
   ]
  },
  {
   "cell_type": "code",
   "execution_count": null,
   "metadata": {},
   "outputs": [],
   "source": [
    "import torch\n",
    "import torch.nn as nn\n",
    "input = torch.arange(12).view(3,4)\n",
    "model = nn.Dropout()\n",
    "out = model(input)\n",
    "print(out)"
   ]
  },
  {
   "cell_type": "code",
   "execution_count": null,
   "metadata": {},
   "outputs": [],
   "source": []
  }
 ],
 "metadata": {
  "kernelspec": {
   "display_name": "Python 3",
   "language": "python",
   "name": "python3"
  },
  "language_info": {
   "codemirror_mode": {
    "name": "ipython",
    "version": 3
   },
   "file_extension": ".py",
   "mimetype": "text/x-python",
   "name": "python",
   "nbconvert_exporter": "python",
   "pygments_lexer": "ipython3",
   "version": "3.7.3"
  }
 },
 "nbformat": 4,
 "nbformat_minor": 2
}
